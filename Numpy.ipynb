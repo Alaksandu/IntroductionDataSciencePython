{
 "cells": [
  {
   "cell_type": "markdown",
   "metadata": {},
   "source": [
    "# Introdução à Data Science com Python - Data ICMC-USP\n",
    "\n",
    "Esse material foi desenvolvido pelo Data, grupo de extensão de aprendizado e ciência de dados compostos por alunos do Instituto de Ciências Matemáticas e de Computação da USP.\n",
    "\n",
    "Esse notebook é acompanhado de um curso em video, que pode ser encontrado em [aqui](https://www.youtube.com/playlist?list=PLFE-LjWAAP9SfEuLXf3qrpw4szKWjlYq9)\n",
    "\n",
    "Para saber mais sobre as atividades do Data entre no nosso site e nos siga e nossas redes sociais:\n",
    "- [Site](http://data.icmc.usp.br/)\n",
    "- [Twitter](https://twitter.com/data_icmc)\n",
    "- [LinkedIn](https://www.linkedin.com/school/data-icmc/)\n",
    "- [Facebook](https://www.facebook.com/dataICMC/)\n",
    "\n",
    "Aproveite o material!\n",
    "\n",
    "\n",
    "## NumPy\n",
    "\n",
    "NumPy é uma biblioteca para manipulação de vetores e matrizes, possuindo várias funções para lidar com esses dados. A biblioteca é muito eficiente e é usada como base para diversar outras bibliotecas de ciência de dados em Python. Iremos ver o material básico importante de NumPy, mas é muito recomendado conferir a documentação oficial em https://numpy.org/doc/, lá é possível encontrar exemplos de uso para todas as funcionalidades da biblioteca. "
   ]
  },
  {
   "cell_type": "code",
   "execution_count": 3,
   "metadata": {},
   "outputs": [],
   "source": [
    "# É comum importar o numpy o chamando só de np \n",
    "import numpy as np"
   ]
  },
  {
   "cell_type": "markdown",
   "metadata": {},
   "source": [
    "### Arrays\n",
    "\n",
    "Arrays são a generalização de vetores e matrizes com qualquer número de dimensões. O `np.array` é o elemento central do NumPy, e é com eles que precisamos saber trabalhar.\n",
    "\n",
    "Como foi dito, um array numpy pode ter qualquer número de dimenções, vamos observar os exemplos na imagem a baixo:\n",
    "\n",
    "<img src=\"https://www.oreilly.com/library/view/elegant-scipy/9781491922927/assets/elsp_0105.png\">\n",
    "\n",
    "([fonte da imagem](https://www.oreilly.com/library/view/elegant-scipy/9781491922927/ch01.html))"
   ]
  },
  {
   "cell_type": "markdown",
   "metadata": {},
   "source": [
    "Certo, então é possível ver que os arrays tem uma dimensão e uma tamanho em cada uma dessas dimenções. Cada dimensão é identificada por um eixo (*axis*) como podemos ver na imagem.\n",
    "\n",
    "Vamos trabalhar com um exemplo simples:"
   ]
  },
  {
   "cell_type": "code",
   "execution_count": 5,
   "metadata": {},
   "outputs": [
    {
     "data": {
      "text/plain": [
       "array([ 2,  3,  5,  7, 11])"
      ]
     },
     "execution_count": 5,
     "metadata": {},
     "output_type": "execute_result"
    }
   ],
   "source": [
    "# Vamos criar nosso primeiro array\n",
    "a = np.array([2, 3, 5, 7, 11])\n",
    "a"
   ]
  },
  {
   "cell_type": "code",
   "execution_count": 3,
   "metadata": {},
   "outputs": [
    {
     "data": {
      "text/plain": [
       "1"
      ]
     },
     "execution_count": 3,
     "metadata": {},
     "output_type": "execute_result"
    }
   ],
   "source": [
    "# O atributo ndim do array guarda seu número de dimenções\n",
    "a.ndim"
   ]
  },
  {
   "cell_type": "code",
   "execution_count": 4,
   "metadata": {},
   "outputs": [
    {
     "data": {
      "text/plain": [
       "(5,)"
      ]
     },
     "execution_count": 4,
     "metadata": {},
     "output_type": "execute_result"
    }
   ],
   "source": [
    "# O shape (formato) do array é um atributo ainda mais importante\n",
    "a.shape"
   ]
  },
  {
   "cell_type": "code",
   "execution_count": 5,
   "metadata": {},
   "outputs": [
    {
     "data": {
      "text/plain": [
       "5"
      ]
     },
     "execution_count": 5,
     "metadata": {},
     "output_type": "execute_result"
    }
   ],
   "source": [
    "# Podemos acessar um entrada do array como fizemos com listas\n",
    "a[2]"
   ]
  },
  {
   "cell_type": "code",
   "execution_count": 6,
   "metadata": {},
   "outputs": [
    {
     "data": {
      "text/plain": [
       "array([ 2,  3,  5, 42, 11])"
      ]
     },
     "execution_count": 6,
     "metadata": {},
     "output_type": "execute_result"
    }
   ],
   "source": [
    "# Podemos também alterar uma entrada do array\n",
    "a[3] = 42\n",
    "a"
   ]
  },
  {
   "cell_type": "markdown",
   "metadata": {},
   "source": [
    "Tudo que fizemos aqui funciona para qualquer número de dimensões, vamos ver:"
   ]
  },
  {
   "cell_type": "code",
   "execution_count": 7,
   "metadata": {},
   "outputs": [
    {
     "data": {
      "text/plain": [
       "array([[10, 20],\n",
       "       [30, 40],\n",
       "       [50, 60]])"
      ]
     },
     "execution_count": 7,
     "metadata": {},
     "output_type": "execute_result"
    }
   ],
   "source": [
    "# Criando uma matriz\n",
    "b = np.array([[10, 20], \n",
    "              [30, 40], \n",
    "              [50, 60]])\n",
    "b"
   ]
  },
  {
   "cell_type": "code",
   "execution_count": 8,
   "metadata": {},
   "outputs": [
    {
     "name": "stdout",
     "output_type": "stream",
     "text": [
      "2\n",
      "(3, 2)\n"
     ]
    }
   ],
   "source": [
    "# Visualizando número de dimensões e shape\n",
    "print(b.ndim)\n",
    "print(b.shape)"
   ]
  },
  {
   "cell_type": "code",
   "execution_count": 9,
   "metadata": {},
   "outputs": [
    {
     "data": {
      "text/plain": [
       "60"
      ]
     },
     "execution_count": 9,
     "metadata": {},
     "output_type": "execute_result"
    }
   ],
   "source": [
    "# Agora precisamos informar a posição em cada eixo para acessar elementos\n",
    "b[2, 1]"
   ]
  },
  {
   "cell_type": "code",
   "execution_count": 10,
   "metadata": {},
   "outputs": [
    {
     "data": {
      "text/plain": [
       "array([[10, 20],\n",
       "       [23, 40],\n",
       "       [50, 60]])"
      ]
     },
     "execution_count": 10,
     "metadata": {},
     "output_type": "execute_result"
    }
   ],
   "source": [
    "# Também podemos mudar entradas\n",
    "b[1, 0] = 23\n",
    "b"
   ]
  },
  {
   "cell_type": "markdown",
   "metadata": {},
   "source": [
    "**Pergunta:** Qual o shape de uma imagem em tons de cinza de tamanho 200x200? E de uma imagem RGB do mesmo tamanho?\n",
    "\n",
    "![image.png](imgs/img_array.png)"
   ]
  },
  {
   "cell_type": "markdown",
   "metadata": {},
   "source": [
    "A imagem cinza teria um shape: (200, 200) -> logo, é um 2D\n",
    "Já a imagem RGB teria um shape: (200, 200, 3) -> isso acontece pois o RGB é divido em três camadas de cores, logo 3D"
   ]
  },
  {
   "cell_type": "markdown",
   "metadata": {},
   "source": [
    "### Gerando arrays\n",
    "Até aqui criamos todos nossos arrays definindo valores na mão utilizando listas em Python. Porém o NumPy possui funções convenientes para criar novos arrays"
   ]
  },
  {
   "cell_type": "code",
   "execution_count": 21,
   "metadata": {},
   "outputs": [
    {
     "data": {
      "text/plain": [
       "array([[0., 0.],\n",
       "       [0., 0.]])"
      ]
     },
     "execution_count": 21,
     "metadata": {},
     "output_type": "execute_result"
    }
   ],
   "source": [
    "# Cria um array tupla só com zeros com shape (2,2)\n",
    "a = np.zeros((2,2))\n",
    "a\n"
   ]
  },
  {
   "cell_type": "code",
   "execution_count": 22,
   "metadata": {},
   "outputs": [
    {
     "data": {
      "text/plain": [
       "array([[[1., 1., 1.],\n",
       "        [1., 1., 1.]],\n",
       "\n",
       "       [[1., 1., 1.],\n",
       "        [1., 1., 1.]],\n",
       "\n",
       "       [[1., 1., 1.],\n",
       "        [1., 1., 1.]],\n",
       "\n",
       "       [[1., 1., 1.],\n",
       "        [1., 1., 1.]],\n",
       "\n",
       "       [[1., 1., 1.],\n",
       "        [1., 1., 1.]]])"
      ]
     },
     "execution_count": 22,
     "metadata": {},
     "output_type": "execute_result"
    }
   ],
   "source": [
    "# Cria um array só com uns com shape (2,2)\n",
    "a = np.ones((5, 2, 3))\n",
    "a"
   ]
  },
  {
   "cell_type": "code",
   "execution_count": 23,
   "metadata": {},
   "outputs": [
    {
     "data": {
      "text/plain": [
       "array([[0.14817777, 0.84384574],\n",
       "       [0.26297548, 0.09925787],\n",
       "       [0.42641373, 0.69696146]])"
      ]
     },
     "execution_count": 23,
     "metadata": {},
     "output_type": "execute_result"
    }
   ],
   "source": [
    "# Cria um array de shape (3,2) com valores aleatórios\n",
    "a = np.random.random((3,2))\n",
    "a"
   ]
  },
  {
   "cell_type": "code",
   "execution_count": 24,
   "metadata": {},
   "outputs": [
    {
     "data": {
      "text/plain": [
       "array([[ 5,  7],\n",
       "       [ 6, 10],\n",
       "       [19,  4]])"
      ]
     },
     "execution_count": 24,
     "metadata": {},
     "output_type": "execute_result"
    }
   ],
   "source": [
    "# Cria um array com valores aleatorios inteiros (20 é o valor maxímo)\n",
    "a = np.random.randint(20, size=(3,2))\n",
    "a"
   ]
  },
  {
   "cell_type": "code",
   "execution_count": 25,
   "metadata": {},
   "outputs": [
    {
     "data": {
      "text/plain": [
       "array([0, 1, 2, 3, 4])"
      ]
     },
     "execution_count": 25,
     "metadata": {},
     "output_type": "execute_result"
    }
   ],
   "source": [
    "# Cria um vetor de 0 a 4\n",
    "a = np.arange(5)\n",
    "a"
   ]
  },
  {
   "cell_type": "markdown",
   "metadata": {},
   "source": [
    "Não temos tempo de ver todas as funções desse tipo que existem, tente dar uma olhada em `np.zeros_like`, `np.full`, `np.linspace`, entre outras."
   ]
  },
  {
   "cell_type": "markdown",
   "metadata": {},
   "source": [
    "### Operações matemáticas\n",
    "\n",
    "Até agora pode não ter ficado muito claro o motivo de estarmos usando arrays do NumPy ao invés de usar simplesmente listas nativas do Python. A vantagem está justamente nas várias operações suportadas por arrays. Vamos ver alguns exemplos"
   ]
  },
  {
   "cell_type": "code",
   "execution_count": 26,
   "metadata": {},
   "outputs": [
    {
     "data": {
      "text/plain": [
       "array([1, 6, 7, 9, 1])"
      ]
     },
     "execution_count": 26,
     "metadata": {},
     "output_type": "execute_result"
    }
   ],
   "source": [
    "# Vamos criar um vetor aleatorio que iremos utilizar\n",
    "a = np.random.randint(10, size=(5,))\n",
    "a"
   ]
  },
  {
   "cell_type": "code",
   "execution_count": 28,
   "metadata": {},
   "outputs": [
    {
     "name": "stdout",
     "output_type": "stream",
     "text": [
      "[11 16 17 19 11]\n",
      "[-3  2  3  5 -3]\n",
      "[ 3 18 21 27  3]\n",
      "[0.5 3.  3.5 4.5 0.5]\n",
      "[ 1 36 49 81  1]\n",
      "[ True False False False  True]\n"
     ]
    }
   ],
   "source": [
    "# Podemos realizar varias operaçoes\n",
    "\n",
    "print(a + 10) # Soma\n",
    "\n",
    "print(a - 4) # Subtração\n",
    "\n",
    "print(a * 3) # Multiplicação\n",
    "\n",
    "print(a / 2) # Divisão\n",
    "\n",
    "print(a ** 2) # Exponenciação\n",
    "\n",
    "print(a < 5) # Comparação"
   ]
  },
  {
   "cell_type": "code",
   "execution_count": 42,
   "metadata": {},
   "outputs": [
    {
     "data": {
      "text/plain": [
       "array([5, 6, 7])"
      ]
     },
     "execution_count": 42,
     "metadata": {},
     "output_type": "execute_result"
    }
   ],
   "source": [
    "# Caso eu queira fazer o mesmo com um list, não funciona\n",
    "# listaQualquer = [1, 2, 3, 4]\n",
    "# listaQualquer + 4\n",
    "\n",
    "# contudo, com np\n",
    "listaNumpy = np.array([1, 2, 3]) + 4\n",
    "listaNumpy"
   ]
  },
  {
   "cell_type": "markdown",
   "metadata": {},
   "source": [
    "Também podemos realizar operações entre arrays"
   ]
  },
  {
   "cell_type": "code",
   "execution_count": 43,
   "metadata": {},
   "outputs": [
    {
     "name": "stdout",
     "output_type": "stream",
     "text": [
      "[5 2 6 8 1]\n",
      "[7 3 9 5 3]\n"
     ]
    }
   ],
   "source": [
    "# Vamos criar dois vetores aleatorios que iremos utilizar\n",
    "a = np.random.randint(10, size=(5,))\n",
    "b = np.random.randint(10, size=(5,))\n",
    "\n",
    "print(a)\n",
    "print(b)"
   ]
  },
  {
   "cell_type": "code",
   "execution_count": 44,
   "metadata": {},
   "outputs": [
    {
     "name": "stdout",
     "output_type": "stream",
     "text": [
      "[12  5 15 13  4]\n"
     ]
    }
   ],
   "source": [
    "# Podemos realizar soma (ou subtração) elemento a elemento\n",
    "print(a + b)"
   ]
  },
  {
   "cell_type": "code",
   "execution_count": 45,
   "metadata": {},
   "outputs": [
    {
     "name": "stdout",
     "output_type": "stream",
     "text": [
      "[35  6 54 40  3]\n"
     ]
    }
   ],
   "source": [
    "# Também podemos realizar multiplicação (ou divisão) elemento a elemento\n",
    "print(a * b)"
   ]
  },
  {
   "cell_type": "code",
   "execution_count": 46,
   "metadata": {},
   "outputs": [
    {
     "ename": "ValueError",
     "evalue": "operands could not be broadcast together with shapes (5,) (7,) ",
     "output_type": "error",
     "traceback": [
      "\u001b[1;31m---------------------------------------------------------------------------\u001b[0m",
      "\u001b[1;31mValueError\u001b[0m                                Traceback (most recent call last)",
      "\u001b[1;32m<ipython-input-46-bec352d051b3>\u001b[0m in \u001b[0;36m<module>\u001b[1;34m\u001b[0m\n\u001b[0;32m      1\u001b[0m \u001b[1;31m# Para isso é muito importante que os shapes sejam iguais\u001b[0m\u001b[1;33m\u001b[0m\u001b[1;33m\u001b[0m\u001b[1;33m\u001b[0m\u001b[0m\n\u001b[0;32m      2\u001b[0m \u001b[0mc\u001b[0m \u001b[1;33m=\u001b[0m \u001b[0mnp\u001b[0m\u001b[1;33m.\u001b[0m\u001b[0mrandom\u001b[0m\u001b[1;33m.\u001b[0m\u001b[0mrandint\u001b[0m\u001b[1;33m(\u001b[0m\u001b[1;36m10\u001b[0m\u001b[1;33m,\u001b[0m \u001b[0msize\u001b[0m\u001b[1;33m=\u001b[0m\u001b[1;33m(\u001b[0m\u001b[1;36m7\u001b[0m\u001b[1;33m,\u001b[0m\u001b[1;33m)\u001b[0m\u001b[1;33m)\u001b[0m\u001b[1;33m\u001b[0m\u001b[1;33m\u001b[0m\u001b[0m\n\u001b[1;32m----> 3\u001b[1;33m \u001b[0mprint\u001b[0m\u001b[1;33m(\u001b[0m\u001b[0ma\u001b[0m \u001b[1;33m+\u001b[0m \u001b[0mc\u001b[0m\u001b[1;33m)\u001b[0m\u001b[1;33m\u001b[0m\u001b[1;33m\u001b[0m\u001b[0m\n\u001b[0m",
      "\u001b[1;31mValueError\u001b[0m: operands could not be broadcast together with shapes (5,) (7,) "
     ]
    }
   ],
   "source": [
    "# Para isso é muito importante que os shapes sejam iguais\n",
    "c = np.random.randint(10, size=(7,))\n",
    "print(a + c)"
   ]
  },
  {
   "cell_type": "code",
   "execution_count": 47,
   "metadata": {},
   "outputs": [
    {
     "data": {
      "text/plain": [
       "138"
      ]
     },
     "execution_count": 47,
     "metadata": {},
     "output_type": "execute_result"
    }
   ],
   "source": [
    "# Também temos operações como o produto escalar entre os vetores\n",
    "np.dot(a, b)"
   ]
  },
  {
   "cell_type": "markdown",
   "metadata": {},
   "source": [
    "Lembre-se que tudo isso também vale para matrizes"
   ]
  },
  {
   "cell_type": "code",
   "execution_count": 48,
   "metadata": {},
   "outputs": [
    {
     "name": "stdout",
     "output_type": "stream",
     "text": [
      "[[7 7 3 2]\n",
      " [5 4 3 0]\n",
      " [9 8 9 4]]\n",
      "-----\n",
      "[[4 0 9 9]\n",
      " [3 9 7 8]\n",
      " [8 6 2 0]]\n"
     ]
    }
   ],
   "source": [
    "# Vamos criar duas matrizes aleatorias que iremos utilizar\n",
    "a = np.random.randint(10, size=(3,4))\n",
    "b = np.random.randint(10, size=(3,4))\n",
    "\n",
    "print(a)\n",
    "print('-----')\n",
    "print(b)"
   ]
  },
  {
   "cell_type": "code",
   "execution_count": 49,
   "metadata": {},
   "outputs": [
    {
     "name": "stdout",
     "output_type": "stream",
     "text": [
      "[[107 107 103 102]\n",
      " [105 104 103 100]\n",
      " [109 108 109 104]]\n",
      "-----\n",
      "[[21 21  9  6]\n",
      " [15 12  9  0]\n",
      " [27 24 27 12]]\n"
     ]
    }
   ],
   "source": [
    "# Operações com escalares\n",
    "print(a + 100)\n",
    "print('-----')\n",
    "print(a * 3)"
   ]
  },
  {
   "cell_type": "code",
   "execution_count": 50,
   "metadata": {},
   "outputs": [
    {
     "name": "stdout",
     "output_type": "stream",
     "text": [
      "[[11  7 12 11]\n",
      " [ 8 13 10  8]\n",
      " [17 14 11  4]]\n"
     ]
    }
   ],
   "source": [
    "# Somando matrizes elemento a elemento\n",
    "print(a + b)"
   ]
  },
  {
   "cell_type": "code",
   "execution_count": 51,
   "metadata": {},
   "outputs": [
    {
     "name": "stdout",
     "output_type": "stream",
     "text": [
      "[[4 3 8]\n",
      " [0 9 6]\n",
      " [9 7 2]\n",
      " [9 8 0]]\n"
     ]
    }
   ],
   "source": [
    "# Podemos transpor uma matriz\n",
    "print(b.T)"
   ]
  },
  {
   "cell_type": "code",
   "execution_count": 56,
   "metadata": {},
   "outputs": [
    {
     "name": "stdout",
     "output_type": "stream",
     "text": [
      "matriz a: \n",
      " [[7 7 3 2]\n",
      " [5 4 3 0]\n",
      " [9 8 9 4]]\n",
      "matriz c: \n",
      " [[4 8]\n",
      " [0 2]\n",
      " [2 8]\n",
      " [8 9]]\n",
      "Shapes: (3, 4) (4, 2)\n",
      "[[ 50 112]\n",
      " [ 26  72]\n",
      " [ 86 196]]\n"
     ]
    }
   ],
   "source": [
    "# Podemos multiplicar matrizes\n",
    "# (com np.dot, np.multiply é multiplicação elemento a elemento)\n",
    "c = np.random.randint(10, size=(4, 2))\n",
    "print('matriz a: \\n', a)\n",
    "print('matriz c: \\n', c)\n",
    "print('Shapes:', a.shape, c.shape)\n",
    "print(np.dot(a, c))"
   ]
  },
  {
   "cell_type": "markdown",
   "metadata": {},
   "source": [
    "Pra refrescar a memória, multiplicação de matriz se da na multiplicação de linhas com as colunas da outra matriz.\n",
    "exemplificando com a primeira linha, seria: (7 * 4) + (7 * 0) + (3 * 2) + (2 * 8) = 50"
   ]
  },
  {
   "cell_type": "markdown",
   "metadata": {},
   "source": [
    "Podemos fazer operações entre vetores e matrizes. De forma geral isso é chamado de *broadcasting*, mas vamos nos limitar a um caso simples"
   ]
  },
  {
   "cell_type": "code",
   "execution_count": 67,
   "metadata": {},
   "outputs": [
    {
     "name": "stdout",
     "output_type": "stream",
     "text": [
      "[4 7 3 9]\n",
      "\n",
      "[[18  8  6  3]\n",
      " [ 0  9 18 15]\n",
      " [ 0 14 17 17]]\n"
     ]
    }
   ],
   "source": [
    "# Criando nosso vetor e nossa matriz\n",
    "a = np.random.randint(10, size=(4,))\n",
    "b = np.random.randint(20, size=(3,4))\n",
    "\n",
    "print(a)\n",
    "print() # Imprime linha em branco entre eles\n",
    "print(b)"
   ]
  },
  {
   "cell_type": "code",
   "execution_count": 64,
   "metadata": {},
   "outputs": [
    {
     "data": {
      "text/plain": [
       "array([[-5, -7, 14, 13],\n",
       "       [-7, -6, 13, 15],\n",
       "       [ 1, -8,  5,  7]])"
      ]
     },
     "execution_count": 64,
     "metadata": {},
     "output_type": "execute_result"
    }
   ],
   "source": [
    "# Isso tem o efeito de subtrair cada linha da matriz pelo vetor\n",
    "b - a"
   ]
  },
  {
   "cell_type": "markdown",
   "metadata": {},
   "source": [
    "perceba que ele funciona, pois o número de elementos na linha do 'a' é igual o 'b', se fossem diferentes não funcionaria.\n",
    "Outra coisa, reparou que diferente do list, no np o size (shape) é de trás pra frente? primeiro a dimensão, depois as linhas, depois os elementos/colunas size=(dimensão, linha, coluna)"
   ]
  },
  {
   "cell_type": "markdown",
   "metadata": {},
   "source": [
    "### Funções importantes"
   ]
  },
  {
   "cell_type": "markdown",
   "metadata": {},
   "source": [
    "#### Funções de agregação"
   ]
  },
  {
   "cell_type": "code",
   "execution_count": 68,
   "metadata": {},
   "outputs": [
    {
     "name": "stdout",
     "output_type": "stream",
     "text": [
      "[ 5 18 11  0  3]\n"
     ]
    }
   ],
   "source": [
    "# Vamos criar um vetor que iremos utilizar\n",
    "a = np.random.randint(20, size=(5,))\n",
    "print(a)"
   ]
  },
  {
   "cell_type": "code",
   "execution_count": 69,
   "metadata": {},
   "outputs": [
    {
     "data": {
      "text/plain": [
       "37"
      ]
     },
     "execution_count": 69,
     "metadata": {},
     "output_type": "execute_result"
    }
   ],
   "source": [
    "# Soma\n",
    "np.sum(a) # ou a.sum()"
   ]
  },
  {
   "cell_type": "code",
   "execution_count": 70,
   "metadata": {},
   "outputs": [
    {
     "data": {
      "text/plain": [
       "7.4"
      ]
     },
     "execution_count": 70,
     "metadata": {},
     "output_type": "execute_result"
    }
   ],
   "source": [
    "# Média\n",
    "np.mean(a) # ou a.mean()"
   ]
  },
  {
   "cell_type": "markdown",
   "metadata": {},
   "source": [
    "Temos várias outras como `np.median`, `np.std`, `np.max`, `np.min`,...\n",
    "\n",
    "Isso também funciona com matrizes normalmente, mas também temos a opção de agregar por eixo"
   ]
  },
  {
   "cell_type": "code",
   "execution_count": 10,
   "metadata": {},
   "outputs": [
    {
     "name": "stdout",
     "output_type": "stream",
     "text": [
      "[[9 5 3 0]\n",
      " [2 8 3 8]\n",
      " [2 2 2 1]]\n"
     ]
    }
   ],
   "source": [
    "# Vamos criar uma matriz que iremos utilizar\n",
    "a = np.random.randint(10, size=(3, 4))\n",
    "print(a)"
   ]
  },
  {
   "cell_type": "code",
   "execution_count": 72,
   "metadata": {},
   "outputs": [
    {
     "data": {
      "text/plain": [
       "52"
      ]
     },
     "execution_count": 72,
     "metadata": {},
     "output_type": "execute_result"
    }
   ],
   "source": [
    "# Podemos somar toda a matriz\n",
    "np.sum(a)"
   ]
  },
  {
   "cell_type": "code",
   "execution_count": 12,
   "metadata": {},
   "outputs": [
    {
     "data": {
      "text/plain": [
       "array([17, 21,  7])"
      ]
     },
     "execution_count": 12,
     "metadata": {},
     "output_type": "execute_result"
    }
   ],
   "source": [
    "# Podemos somar as linhas\n",
    "np.sum(a, axis=1)"
   ]
  },
  {
   "cell_type": "code",
   "execution_count": 11,
   "metadata": {
    "scrolled": true
   },
   "outputs": [
    {
     "data": {
      "text/plain": [
       "array([13, 15,  8,  9])"
      ]
     },
     "execution_count": 11,
     "metadata": {},
     "output_type": "execute_result"
    }
   ],
   "source": [
    "# Podemos somar as colunas\n",
    "np.sum(a, axis=0)"
   ]
  },
  {
   "cell_type": "markdown",
   "metadata": {},
   "source": [
    "#### Reshape\n",
    "Essa é uma função que nos permite alterar a shape de arrays"
   ]
  },
  {
   "cell_type": "code",
   "execution_count": 6,
   "metadata": {},
   "outputs": [
    {
     "name": "stdout",
     "output_type": "stream",
     "text": [
      "[ 6 19  9 15 19  1  9 17  9 13  9 10  4 15 13  8 18 10]\n"
     ]
    },
    {
     "data": {
      "text/plain": [
       "(18,)"
      ]
     },
     "execution_count": 6,
     "metadata": {},
     "output_type": "execute_result"
    }
   ],
   "source": [
    "# Vamos criar um vetor que iremos utilizar\n",
    "a = np.random.randint(20, size=(18,))\n",
    "print(a)\n",
    "a.shape"
   ]
  },
  {
   "cell_type": "code",
   "execution_count": 13,
   "metadata": {},
   "outputs": [
    {
     "name": "stdout",
     "output_type": "stream",
     "text": [
      "(9, 2)\n",
      "[[ 6 19]\n",
      " [ 9 15]\n",
      " [19  1]\n",
      " [ 9 17]\n",
      " [ 9 13]\n",
      " [ 9 10]\n",
      " [ 4 15]\n",
      " [13  8]\n",
      " [18 10]]\n"
     ]
    }
   ],
   "source": [
    "# Tranformar em matriz 9 por 2\n",
    "b = a.reshape(9, 2)\n",
    "print(b.shape)\n",
    "print(b)\n",
    "#veja que agora o shape foi alterado.\n"
   ]
  },
  {
   "cell_type": "code",
   "execution_count": 15,
   "metadata": {},
   "outputs": [
    {
     "data": {
      "text/plain": [
       "array([ 6, 19,  9, 15, 19,  1,  9, 17,  9, 13,  9, 10,  4, 15, 13,  8, 18,\n",
       "       10])"
      ]
     },
     "execution_count": 15,
     "metadata": {},
     "output_type": "execute_result"
    }
   ],
   "source": [
    "# Tranformar em matriz 3 por 6\n",
    "c = a.reshape(3, 6)\n",
    "c\n",
    "\n",
    "#veja que o reshape feito, alterou a matriz 3 por 6 pra um array de 18 elementos\n",
    "c.reshape(18)"
   ]
  },
  {
   "cell_type": "code",
   "execution_count": 16,
   "metadata": {
    "scrolled": true
   },
   "outputs": [
    {
     "data": {
      "text/plain": [
       "array([[[ 6, 19,  9],\n",
       "        [15, 19,  1]],\n",
       "\n",
       "       [[ 9, 17,  9],\n",
       "        [13,  9, 10]],\n",
       "\n",
       "       [[ 4, 15, 13],\n",
       "        [ 8, 18, 10]]])"
      ]
     },
     "execution_count": 16,
     "metadata": {},
     "output_type": "execute_result"
    }
   ],
   "source": [
    "# Tranformar em tensor 3D 3 por 2 por 3\n",
    "d = a.reshape(3, 2, 3)\n",
    "# lembrando, dimensão, linha e coluna (DLC)\n",
    "d"
   ]
  },
  {
   "cell_type": "markdown",
   "metadata": {},
   "source": [
    "### Indexação"
   ]
  },
  {
   "cell_type": "markdown",
   "metadata": {},
   "source": [
    "#### Arrays 1D"
   ]
  },
  {
   "cell_type": "code",
   "execution_count": 9,
   "metadata": {},
   "outputs": [
    {
     "name": "stdout",
     "output_type": "stream",
     "text": [
      "[18  2  4 16 12 19  0 18 19 14]\n"
     ]
    }
   ],
   "source": [
    "# Vamos criar um vetor que iremos utilizar\n",
    "a = np.random.randint(20, size=(10))\n",
    "print(a)"
   ]
  },
  {
   "cell_type": "code",
   "execution_count": 10,
   "metadata": {},
   "outputs": [
    {
     "name": "stdout",
     "output_type": "stream",
     "text": [
      "12\n",
      "[19  0 18]\n"
     ]
    }
   ],
   "source": [
    "# Como já vimos podemos indexar exatamente como no Python puro\n",
    "print(a[4])\n",
    "print(a[5:8]) # relembrando, o da esquerda é fechado, contando de 0. O da direita, não, ele é aberto começando a contagem por 1."
   ]
  },
  {
   "cell_type": "code",
   "execution_count": 11,
   "metadata": {},
   "outputs": [
    {
     "name": "stdout",
     "output_type": "stream",
     "text": [
      "[18  4 16]\n"
     ]
    }
   ],
   "source": [
    "# Podemos indexar usando um lista dos valores que queremos\n",
    "print(a[[0, 2, 3]]) # lembre-se de colocar um colchete adicionou nesse caso"
   ]
  },
  {
   "cell_type": "code",
   "execution_count": 13,
   "metadata": {
    "scrolled": true
   },
   "outputs": [
    {
     "name": "stdout",
     "output_type": "stream",
     "text": [
      "[ 2 19  0 19 14]\n",
      "[18 16 12 19 18 19 14]\n"
     ]
    }
   ],
   "source": [
    "# Podemos também indexar usando valores booleanos\n",
    "print(a[[False, True, False, False, False, True, True, False, True, True]]) \n",
    "# veja que o retorno dos valores, são apenas aqueles true\n",
    "\n",
    "print(a[ a > 10])"
   ]
  },
  {
   "cell_type": "code",
   "execution_count": 14,
   "metadata": {},
   "outputs": [
    {
     "name": "stdout",
     "output_type": "stream",
     "text": [
      "[ True False False  True  True  True False  True  True  True]\n",
      "[18 16 12 19 18 19 14]\n"
     ]
    }
   ],
   "source": [
    "# A indexação com booleanos é muito util combinado com comparação\n",
    "maior_que_10 = a > 10\n",
    "print(maior_que_10)\n",
    "b = a[maior_que_10]\n",
    "print(b)"
   ]
  },
  {
   "cell_type": "markdown",
   "metadata": {},
   "source": [
    "#### Arrays 2D"
   ]
  },
  {
   "cell_type": "code",
   "execution_count": 4,
   "metadata": {},
   "outputs": [
    {
     "name": "stdout",
     "output_type": "stream",
     "text": [
      "[[24 46 47 43 47  5]\n",
      " [11 48 47 16 47 23]\n",
      " [40  9 27 30 44 16]\n",
      " [21 25 24 47 46 31]]\n"
     ]
    }
   ],
   "source": [
    "a = np.random.randint(50, size=(4,6))\n",
    "print(a)"
   ]
  },
  {
   "cell_type": "code",
   "execution_count": 5,
   "metadata": {},
   "outputs": [
    {
     "name": "stdout",
     "output_type": "stream",
     "text": [
      "44\n"
     ]
    },
    {
     "data": {
      "text/plain": [
       "array([[24, 46, 47, 43, 47,  5],\n",
       "       [11, 48, 47, 16, 47, 23],\n",
       "       [40,  9, 27, 30, 44, 16],\n",
       "       [21, 25, 24, 47, 46, 31]])"
      ]
     },
     "execution_count": 5,
     "metadata": {},
     "output_type": "execute_result"
    }
   ],
   "source": [
    "# Podemos acessar elementos unicos informando a posição em cada eixo\n",
    "print(a[2, 4])\n",
    "a"
   ]
  },
  {
   "cell_type": "code",
   "execution_count": 8,
   "metadata": {
    "scrolled": false
   },
   "outputs": [
    {
     "name": "stdout",
     "output_type": "stream",
     "text": [
      "[[47 16 47]\n",
      " [27 30 44]]\n"
     ]
    }
   ],
   "source": [
    "# Podemos fatiar um pedaço da matriz fatiando em cada eixo\n",
    "print(a[1:3, 2: 5])"
   ]
  },
  {
   "cell_type": "code",
   "execution_count": 21,
   "metadata": {
    "scrolled": false
   },
   "outputs": [
    {
     "name": "stdout",
     "output_type": "stream",
     "text": [
      "[38 25 13 40]\n",
      "[ 8  4 25 10 17 15]\n",
      "[25 10]\n"
     ]
    }
   ],
   "source": [
    "# Utilizar : sozinho significa que queros todos os valores do eixo em questão\n",
    "print(a[:, 2]) # Todas linhas da coluna 2\n",
    "print(a[1, :]) # Todas as colunas da linha 1\n",
    "print(a[1, 2:4]) # Colunas 2 e 3 da linha 1 "
   ]
  },
  {
   "cell_type": "code",
   "execution_count": 23,
   "metadata": {},
   "outputs": [
    {
     "data": {
      "text/plain": [
       "array([[False,  True,  True, False, False, False],\n",
       "       [False, False, False, False, False, False],\n",
       "       [ True,  True, False,  True,  True, False],\n",
       "       [ True, False,  True, False,  True,  True]])"
      ]
     },
     "execution_count": 23,
     "metadata": {},
     "output_type": "execute_result"
    }
   ],
   "source": [
    "a > 25"
   ]
  },
  {
   "cell_type": "code",
   "execution_count": 22,
   "metadata": {},
   "outputs": [
    {
     "data": {
      "text/plain": [
       "array([31, 38, 40, 28, 28, 36, 40, 40, 46, 41])"
      ]
     },
     "execution_count": 22,
     "metadata": {},
     "output_type": "execute_result"
    }
   ],
   "source": [
    "# Podemos realizar a indexação por booleanos também (mas vira 1D)\n",
    "a[a > 25]"
   ]
  },
  {
   "cell_type": "markdown",
   "metadata": {},
   "source": [
    "Esses conceitos são totalmente iguais para qualquer número de dimensões.\n",
    "\n",
    "**Pergunta:** Como podemos extrair apenas o canal verde de uma imagem RGB?"
   ]
  },
  {
   "cell_type": "code",
   "execution_count": 51,
   "metadata": {},
   "outputs": [
    {
     "data": {
      "text/plain": [
       "array([[[19,  1,  8,  6,  2],\n",
       "        [ 2,  4,  4,  3,  6],\n",
       "        [12,  7, 18, 16,  1],\n",
       "        [ 6,  6, 17,  2,  5],\n",
       "        [ 4,  1, 12, 11, 10]],\n",
       "\n",
       "       [[ 1, 13, 18, 11,  0],\n",
       "        [14, 11,  3, 10,  0],\n",
       "        [11,  9, 16, 19, 13],\n",
       "        [ 3,  6,  5,  1,  9],\n",
       "        [19,  7,  2,  4,  6]],\n",
       "\n",
       "       [[18,  6, 14,  8,  8],\n",
       "        [ 6, 17, 13,  6,  0],\n",
       "        [ 3,  1,  6, 16, 16],\n",
       "        [ 9,  0,  3,  5, 15],\n",
       "        [17,  8,  9, 16,  8]]])"
      ]
     },
     "execution_count": 51,
     "metadata": {},
     "output_type": "execute_result"
    }
   ],
   "source": [
    "img_rgb = np.random.randint(20, size=(3, 5, 5))\n",
    "img_rgb.shape\n",
    "\n",
    "img_rgb"
   ]
  },
  {
   "cell_type": "code",
   "execution_count": 52,
   "metadata": {},
   "outputs": [
    {
     "data": {
      "text/plain": [
       "array([[ 1, 13, 18, 11,  0],\n",
       "       [14, 11,  3, 10,  0],\n",
       "       [11,  9, 16, 19, 13],\n",
       "       [ 3,  6,  5,  1,  9],\n",
       "       [19,  7,  2,  4,  6]])"
      ]
     },
     "execution_count": 52,
     "metadata": {},
     "output_type": "execute_result"
    }
   ],
   "source": [
    "img_rgb[1, :, :]"
   ]
  },
  {
   "cell_type": "markdown",
   "metadata": {},
   "source": [
    "### Velocidade"
   ]
  },
  {
   "cell_type": "code",
   "execution_count": 78,
   "metadata": {},
   "outputs": [
    {
     "data": {
      "text/plain": [
       "array([[   0,    1,    2, ..., 9997, 9998, 9999],\n",
       "       [   0,    1,    2, ..., 9997, 9998, 9999],\n",
       "       [   0,    1,    2, ..., 9997, 9998, 9999],\n",
       "       ...,\n",
       "       [   0,    1,    2, ..., 9997, 9998, 9999],\n",
       "       [   0,    1,    2, ..., 9997, 9998, 9999],\n",
       "       [   0,    1,    2, ..., 9997, 9998, 9999]])"
      ]
     },
     "execution_count": 78,
     "metadata": {},
     "output_type": "execute_result"
    }
   ],
   "source": [
    "a = [[j for j in range(10000)] for _ in range(1000)]\n",
    "b = np.array(a)\n",
    "\n",
    "b"
   ]
  },
  {
   "cell_type": "code",
   "execution_count": 79,
   "metadata": {},
   "outputs": [
    {
     "name": "stdout",
     "output_type": "stream",
     "text": [
      "1000\n"
     ]
    }
   ],
   "source": [
    "print(len(a))"
   ]
  },
  {
   "cell_type": "code",
   "execution_count": 80,
   "metadata": {},
   "outputs": [
    {
     "name": "stdout",
     "output_type": "stream",
     "text": [
      "Wall time: 2.11 s\n"
     ]
    }
   ],
   "source": [
    "%%time\n",
    "for i in range(len(a)):\n",
    "    for j in range(len(a[0])):\n",
    "        a[i][j] *= 10"
   ]
  },
  {
   "cell_type": "code",
   "execution_count": 81,
   "metadata": {},
   "outputs": [
    {
     "name": "stdout",
     "output_type": "stream",
     "text": [
      "Wall time: 9.98 ms\n"
     ]
    }
   ],
   "source": [
    "%%time\n",
    "b *= 10"
   ]
  },
  {
   "cell_type": "code",
   "execution_count": null,
   "metadata": {},
   "outputs": [],
   "source": []
  }
 ],
 "metadata": {
  "kernelspec": {
   "display_name": "Python 3",
   "language": "python",
   "name": "python3"
  },
  "language_info": {
   "codemirror_mode": {
    "name": "ipython",
    "version": 3
   },
   "file_extension": ".py",
   "mimetype": "text/x-python",
   "name": "python",
   "nbconvert_exporter": "python",
   "pygments_lexer": "ipython3",
   "version": "3.8.8"
  }
 },
 "nbformat": 4,
 "nbformat_minor": 4
}
