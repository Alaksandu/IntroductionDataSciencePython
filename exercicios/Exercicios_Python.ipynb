{
 "cells": [
  {
   "cell_type": "markdown",
   "metadata": {},
   "source": [
    "# Introdução à Data Science com Python - Data ICMC-USP\n",
    "\n",
    "Esse material foi desenvolvido pelo Data, grupo de extensão de aprendizado e ciência de dados compostos por alunos do Instituto de Ciências Matemáticas e de Computação da USP.\n",
    "\n",
    "Esse notebook é acompanhado de um curso em video, que pode ser encontrado em [aqui](https://www.youtube.com/playlist?list=PLFE-LjWAAP9SfEuLXf3qrpw4szKWjlYq9)\n",
    "\n",
    "Para saber mais sobre as atividades do Data entre no nosso site e nos siga e nossas redes sociais:\n",
    "- [Site](http://data.icmc.usp.br/)\n",
    "- [Twitter](https://twitter.com/data_icmc)\n",
    "- [LinkedIn](https://www.linkedin.com/school/data-icmc/)\n",
    "- [Facebook](https://www.facebook.com/dataICMC/)\n",
    "\n",
    "Aproveite o material!\n",
    "\n",
    "## Exercícios Python\n",
    "\n",
    "O objetivo desse notebook é ajudar na fixação dos conteúdos que passamos nas aulas de Python. Esse material foi preparado para acompanhar o que foi passado nos videos, e em breve teremos a divulgação das resuluções com um vídeo de explicação."
   ]
  },
  {
   "cell_type": "markdown",
   "metadata": {},
   "source": [
    "### Variáveis"
   ]
  },
  {
   "cell_type": "code",
   "execution_count": 7,
   "metadata": {},
   "outputs": [
    {
     "data": {
      "text/plain": [
       "10"
      ]
     },
     "execution_count": 7,
     "metadata": {},
     "output_type": "execute_result"
    }
   ],
   "source": [
    "# Declare uma variavel chamada a e atribua o valor 10 a ela\n",
    "a = 10\n",
    "a"
   ]
  },
  {
   "cell_type": "code",
   "execution_count": 8,
   "metadata": {},
   "outputs": [
    {
     "data": {
      "text/plain": [
       "10"
      ]
     },
     "execution_count": 8,
     "metadata": {},
     "output_type": "execute_result"
    }
   ],
   "source": [
    "# Imprime essa variavel que você acabou de criar\n",
    "a"
   ]
  },
  {
   "cell_type": "code",
   "execution_count": 9,
   "metadata": {},
   "outputs": [
    {
     "data": {
      "text/plain": [
       "'10'"
      ]
     },
     "execution_count": 9,
     "metadata": {},
     "output_type": "execute_result"
    }
   ],
   "source": [
    "# Crie uma outra variavel b que recebe o valor de a so que como string\n",
    "b = str(a)\n",
    "\n",
    "b"
   ]
  },
  {
   "cell_type": "code",
   "execution_count": 11,
   "metadata": {},
   "outputs": [],
   "source": [
    "# Combine sua variavel b a variavel abaixo para obter a string \"Hello 10\" em uma variavel d\n",
    "c = \"Hello \"\n",
    "d = c + b"
   ]
  },
  {
   "cell_type": "code",
   "execution_count": 12,
   "metadata": {},
   "outputs": [
    {
     "data": {
      "text/plain": [
       "'Hello 10'"
      ]
     },
     "execution_count": 12,
     "metadata": {},
     "output_type": "execute_result"
    }
   ],
   "source": [
    "# Imprima a variável d\n",
    "d"
   ]
  },
  {
   "cell_type": "markdown",
   "metadata": {},
   "source": [
    "### Strings"
   ]
  },
  {
   "cell_type": "code",
   "execution_count": 13,
   "metadata": {},
   "outputs": [],
   "source": [
    "my_str = 'Insira uma frase aqui!'"
   ]
  },
  {
   "cell_type": "code",
   "execution_count": 16,
   "metadata": {},
   "outputs": [
    {
     "data": {
      "text/plain": [
       "'Insira uma frase aqui?'"
      ]
     },
     "execution_count": 16,
     "metadata": {},
     "output_type": "execute_result"
    }
   ],
   "source": [
    "# Substitua a exclamação da frase por uma interrogação\n",
    "# (Dica: A funcão altera inplace ou retorna uma copia modificada?)\n",
    "\n",
    "my_str.replace(\"!\", \"?\")\n",
    "# é retornado uma nova string, pois a string original dentro my_str não é alterado"
   ]
  },
  {
   "cell_type": "code",
   "execution_count": 17,
   "metadata": {},
   "outputs": [
    {
     "data": {
      "text/plain": [
       "['Python', 'é', 'uma', 'linguagem', 'foda', 'pra', 'krai']"
      ]
     },
     "execution_count": 17,
     "metadata": {},
     "output_type": "execute_result"
    }
   ],
   "source": [
    "# Crie uma lista \"my_words\" com cada palavra a frase\n",
    "my_words = \"Python é uma linguagem foda pra krai\"\n",
    "my_words.split()"
   ]
  },
  {
   "cell_type": "markdown",
   "metadata": {},
   "source": [
    "### Listas"
   ]
  },
  {
   "cell_type": "code",
   "execution_count": 2,
   "metadata": {},
   "outputs": [],
   "source": [
    "lista = [1, 23, 31, 40, 56, 16]"
   ]
  },
  {
   "cell_type": "code",
   "execution_count": 3,
   "metadata": {},
   "outputs": [
    {
     "name": "stdout",
     "output_type": "stream",
     "text": [
      "1\n",
      "23\n",
      "31\n",
      "40\n",
      "56\n",
      "16\n"
     ]
    }
   ],
   "source": [
    "# Faça um for que imprima cada elemento da lista \"lista\" (Lembre-se que o for em python é um for each)\n",
    "for num in lista:\n",
    "    print(num)"
   ]
  },
  {
   "cell_type": "code",
   "execution_count": 4,
   "metadata": {},
   "outputs": [
    {
     "name": "stdout",
     "output_type": "stream",
     "text": [
      "2\n",
      "46\n",
      "62\n",
      "80\n",
      "112\n",
      "32\n"
     ]
    }
   ],
   "source": [
    "# Faça um for que imprima o dobro de cada elemento da lista \"lista\" \n",
    "for num in lista:\n",
    "    print(num * 2)"
   ]
  },
  {
   "cell_type": "code",
   "execution_count": 18,
   "metadata": {},
   "outputs": [
    {
     "data": {
      "text/plain": [
       "[2, 46, 62, 80, 112, 32]"
      ]
     },
     "execution_count": 18,
     "metadata": {},
     "output_type": "execute_result"
    }
   ],
   "source": [
    "# Gere uma lista chamada \"dobro\" com o dobro de cada elemento de \"lista\" usando list comprehension\n",
    "dobro = [num * 2 for num in lista]\n",
    "dobro"
   ]
  },
  {
   "cell_type": "code",
   "execution_count": 46,
   "metadata": {},
   "outputs": [
    {
     "name": "stdout",
     "output_type": "stream",
     "text": [
      "[16, 56, 40, 31, 23, 1]\n"
     ]
    }
   ],
   "source": [
    "# Crie uma nova lista chamada \"pares\"\n",
    "# Faça um for que itetere sobre a lista \"lista\" e para cada elemento impar coloque ele no fim da lista \"pares\"\n",
    "# Imprima a lista \"pares\"\n",
    "pares = [num for num in reversed(lista)]\n",
    "print(pares)"
   ]
  },
  {
   "cell_type": "code",
   "execution_count": 49,
   "metadata": {},
   "outputs": [],
   "source": [
    "lista2 = ['oi', 2, 2.5, 'top', 'python', 45]"
   ]
  },
  {
   "cell_type": "code",
   "execution_count": 50,
   "metadata": {},
   "outputs": [
    {
     "name": "stdout",
     "output_type": "stream",
     "text": [
      "oi\n",
      "top\n",
      "python\n"
     ]
    }
   ],
   "source": [
    "# Faça um for pela \"lista2\" e imprima todos os elementos que são strings (Dica: pesquise pela função type())\n",
    "for palavras in lista2:\n",
    "    if type(palavras) == str:\n",
    "        print(palavras)"
   ]
  },
  {
   "cell_type": "markdown",
   "metadata": {},
   "source": [
    "#### Indexando"
   ]
  },
  {
   "cell_type": "code",
   "execution_count": 51,
   "metadata": {},
   "outputs": [],
   "source": [
    "my_list = [0, 10, 20, 30, 40, 50, 60, 70]"
   ]
  },
  {
   "cell_type": "code",
   "execution_count": 52,
   "metadata": {},
   "outputs": [
    {
     "data": {
      "text/plain": [
       "70"
      ]
     },
     "execution_count": 52,
     "metadata": {},
     "output_type": "execute_result"
    }
   ],
   "source": [
    "# Selecione o ultimo elemento da lista\n",
    "my_list[-1]"
   ]
  },
  {
   "cell_type": "code",
   "execution_count": 55,
   "metadata": {},
   "outputs": [
    {
     "data": {
      "text/plain": [
       "[0, 10, 20, 30, 40]"
      ]
     },
     "execution_count": 55,
     "metadata": {},
     "output_type": "execute_result"
    }
   ],
   "source": [
    "# Selecione do primeiro até o 4 elemento da lista\n",
    "my_list[0:5]"
   ]
  },
  {
   "cell_type": "code",
   "execution_count": 56,
   "metadata": {},
   "outputs": [
    {
     "data": {
      "text/plain": [
       "[10, 20, 30, 40]"
      ]
     },
     "execution_count": 56,
     "metadata": {},
     "output_type": "execute_result"
    }
   ],
   "source": [
    "# Selecione do segundo elemento da lista até o quinto\n",
    "my_list[1:5]"
   ]
  },
  {
   "cell_type": "code",
   "execution_count": 60,
   "metadata": {},
   "outputs": [
    {
     "data": {
      "text/plain": [
       "[0, 10, 20, 30, 40, 50, 60]"
      ]
     },
     "execution_count": 60,
     "metadata": {},
     "output_type": "execute_result"
    }
   ],
   "source": [
    "# Selecione do primeiro elemento da lista até o penultimo\n",
    "my_list[0:-1] "
   ]
  },
  {
   "cell_type": "markdown",
   "metadata": {},
   "source": [
    "### Dicionários"
   ]
  },
  {
   "cell_type": "code",
   "execution_count": 62,
   "metadata": {},
   "outputs": [],
   "source": [
    "lista = ['a', 'a', 'b', 'a', 'c', 'd', 'e', 'b', 'b', 'c']"
   ]
  },
  {
   "cell_type": "code",
   "execution_count": 65,
   "metadata": {},
   "outputs": [],
   "source": [
    "# Crie um dicionario que contenha a contagem de cada elemento do vetor\n",
    "my_dict = {}\n",
    "#...\n",
    "my_dict['a'] = lista.count('a')\n",
    "my_dict['b'] = lista.count('b')\n",
    "my_dict['c'] = lista.count('c')\n",
    "my_dict['d'] = lista.count('d')\n",
    "my_dict['e'] = lista.count('e')"
   ]
  },
  {
   "cell_type": "code",
   "execution_count": 66,
   "metadata": {},
   "outputs": [
    {
     "name": "stdout",
     "output_type": "stream",
     "text": [
      "{'a': 3, 'b': 3, 'c': 2, 'd': 1, 'e': 1}\n"
     ]
    }
   ],
   "source": [
    "print(my_dict)"
   ]
  },
  {
   "cell_type": "markdown",
   "metadata": {},
   "source": [
    "### Funções"
   ]
  },
  {
   "cell_type": "code",
   "execution_count": 67,
   "metadata": {},
   "outputs": [],
   "source": [
    "# Crie uma função soma_elementos() que recebe uma lista e retorna a soma de todos os seus elementos\n",
    "def soma_elementos(lista):\n",
    "    soma = 0\n",
    "    for num in lista:\n",
    "        soma += num\n",
    "    return soma"
   ]
  },
  {
   "cell_type": "code",
   "execution_count": 68,
   "metadata": {},
   "outputs": [
    {
     "data": {
      "text/plain": [
       "15"
      ]
     },
     "execution_count": 68,
     "metadata": {},
     "output_type": "execute_result"
    }
   ],
   "source": [
    "soma_elementos([1, 2, 3, 4, 5])"
   ]
  },
  {
   "cell_type": "code",
   "execution_count": 69,
   "metadata": {},
   "outputs": [
    {
     "data": {
      "text/plain": [
       "9"
      ]
     },
     "execution_count": 69,
     "metadata": {},
     "output_type": "execute_result"
    }
   ],
   "source": [
    "soma_elementos([-1, 5, 7, -2])"
   ]
  },
  {
   "cell_type": "code",
   "execution_count": 81,
   "metadata": {},
   "outputs": [],
   "source": [
    "# Crie uma função produto_escalar() que recebe duas listas de tamanho igual e calcula o produto escalar entre elas\n",
    "# Dica: Utilize a função zip\n",
    "def produto_escalar(lista1, lista2):\n",
    "    result = 0\n",
    "    for i in range(len(lista1)):\n",
    "        result += lista1[i] * lista2[i]\n",
    "    return result\n",
    "\n",
    "# outra forma com zip, achei mais complicado\n",
    "def produto_escalar2(lista1, lista2):\n",
    "    \n",
    "    result = [sum (lista1 * lista2 for lista1,lista2 in zip(lista1,lista2))]\n",
    "    return result"
   ]
  },
  {
   "cell_type": "code",
   "execution_count": 82,
   "metadata": {},
   "outputs": [
    {
     "data": {
      "text/plain": [
       "[29]"
      ]
     },
     "execution_count": 82,
     "metadata": {},
     "output_type": "execute_result"
    }
   ],
   "source": [
    "produto_escalar2([1, 2, 3], [0, 4, 7])"
   ]
  },
  {
   "cell_type": "code",
   "execution_count": 72,
   "metadata": {},
   "outputs": [
    {
     "data": {
      "text/plain": [
       "391"
      ]
     },
     "execution_count": 72,
     "metadata": {},
     "output_type": "execute_result"
    }
   ],
   "source": [
    "produto_escalar([10, 20, 40, 1], [23, 4, 2, 1])"
   ]
  },
  {
   "cell_type": "code",
   "execution_count": 30,
   "metadata": {},
   "outputs": [],
   "source": [
    "# Crie uma função par_ou_impar() que recebe um numero n é para cada numero de 1 a n imprime o numero\n",
    "# seguido de par ou impar, dependendo do que ele seja. Caso o usuário não coloque nada n deve valer 20\n",
    "# Exemplo: par_ou_impar(4)\n",
    "#   1 Impar\n",
    "#   2 Par\n",
    "#   3 Impar\n",
    "#   4 Par\n",
    "def par_ou_impar(num = 20):\n",
    "    for i in range(num):\n",
    "        i += 1\n",
    "        if i % 2 == 0:\n",
    "            print(i, \" Par\")\n",
    "        elif i % 2 == 1:\n",
    "            print(i, \" Impar\")\n",
    "        "
   ]
  },
  {
   "cell_type": "code",
   "execution_count": 31,
   "metadata": {},
   "outputs": [
    {
     "name": "stdout",
     "output_type": "stream",
     "text": [
      "1  Impar\n",
      "2  Par\n",
      "3  Impar\n",
      "4  Par\n"
     ]
    }
   ],
   "source": [
    "par_ou_impar(4)"
   ]
  },
  {
   "cell_type": "code",
   "execution_count": 33,
   "metadata": {},
   "outputs": [
    {
     "name": "stdout",
     "output_type": "stream",
     "text": [
      "1  Impar\n",
      "2  Par\n",
      "3  Impar\n",
      "4  Par\n",
      "5  Impar\n",
      "6  Par\n",
      "7  Impar\n",
      "8  Par\n",
      "9  Impar\n",
      "10  Par\n",
      "11  Impar\n",
      "12  Par\n",
      "13  Impar\n",
      "14  Par\n",
      "15  Impar\n",
      "16  Par\n",
      "17  Impar\n",
      "18  Par\n",
      "19  Impar\n",
      "20  Par\n"
     ]
    }
   ],
   "source": [
    "par_ou_impar()"
   ]
  },
  {
   "cell_type": "code",
   "execution_count": 45,
   "metadata": {},
   "outputs": [],
   "source": [
    "# Crie uma função diga_indice() que recebe uma lista e imprime o indice de cada elemento e em seguida \n",
    "# o proprio elemento\n",
    "# Exemplo: diga_indice(['oi', 'tudo', 'bem'])\n",
    "#    0 oi\n",
    "#    1 tudo\n",
    "#    2 bem\n",
    "# (DICA: Pesquise pela função enumerate)\n",
    "\n",
    "def diga_indice(lista):\n",
    "    for i in lista:\n",
    "        print(lista.index(i), i)"
   ]
  },
  {
   "cell_type": "code",
   "execution_count": 46,
   "metadata": {},
   "outputs": [
    {
     "name": "stdout",
     "output_type": "stream",
     "text": [
      "0 1\n",
      "1 2\n",
      "2 3\n"
     ]
    }
   ],
   "source": [
    "diga_indice(['1', '2', '3'])"
   ]
  },
  {
   "cell_type": "code",
   "execution_count": 47,
   "metadata": {},
   "outputs": [
    {
     "name": "stdout",
     "output_type": "stream",
     "text": [
      "0 a\n",
      "1 b\n",
      "2 c\n",
      "3 d\n",
      "4 e\n"
     ]
    }
   ],
   "source": [
    "diga_indice(['a', 'b', 'c', 'd', 'e'])"
   ]
  },
  {
   "cell_type": "markdown",
   "metadata": {},
   "source": [
    "## Numpy\n",
    "\n",
    "O elemento central do numpy são os arrays, então aqui vamos treinar muitas coisas sobre eles"
   ]
  },
  {
   "cell_type": "code",
   "execution_count": 48,
   "metadata": {},
   "outputs": [],
   "source": [
    "# Importando a biblioteca\n",
    "import numpy as np"
   ]
  },
  {
   "cell_type": "markdown",
   "metadata": {},
   "source": [
    "### Arrays"
   ]
  },
  {
   "cell_type": "code",
   "execution_count": 51,
   "metadata": {},
   "outputs": [],
   "source": [
    "a = np.array([1, 2, 3, 4, 5, 6, 7])\n",
    "\n",
    "b = np.array([[1, 2, 3, 4],\n",
    "              [5, 6, 7, 8]])\n",
    "\n",
    "c = np.zeros((3,4))"
   ]
  },
  {
   "cell_type": "code",
   "execution_count": 54,
   "metadata": {},
   "outputs": [
    {
     "data": {
      "text/plain": [
       "(3, 4)"
      ]
     },
     "execution_count": 54,
     "metadata": {},
     "output_type": "execute_result"
    }
   ],
   "source": [
    "# Pense em qual é a shape de cada um dos arrays acima\n",
    "#a = 7\n",
    "#b = 2,4\n",
    "#c = 3,4\n",
    "# Depois de pensar imprima cada um deles para conferir sua resposta\n",
    "a.shape\n",
    "b.shape\n",
    "c.shape"
   ]
  },
  {
   "cell_type": "code",
   "execution_count": 62,
   "metadata": {},
   "outputs": [
    {
     "data": {
      "text/plain": [
       "array([14,  4,  5, 22, 22,  3,  6, 18,  9, 19, 21,  2, 18,  5, 19,  0, 11,\n",
       "       17,  0, 14])"
      ]
     },
     "execution_count": 62,
     "metadata": {},
     "output_type": "execute_result"
    }
   ],
   "source": [
    "# Crie um array de uma dimenção com 20 elementos inteiros aletórios entre 0 e 23bb\n",
    "arrayOneDimension = np.random.randint(23, size=20)\n",
    "arrayOneDimension"
   ]
  },
  {
   "cell_type": "code",
   "execution_count": 65,
   "metadata": {},
   "outputs": [
    {
     "data": {
      "text/plain": [
       "array([[1., 1., 1., 1., 1.],\n",
       "       [1., 1., 1., 1., 1.],\n",
       "       [1., 1., 1., 1., 1.],\n",
       "       [1., 1., 1., 1., 1.]])"
      ]
     },
     "execution_count": 65,
     "metadata": {},
     "output_type": "execute_result"
    }
   ],
   "source": [
    "# Crie um array de uns com shape (4, 5)\n",
    "arrayUns = np.ones((4,5))\n",
    "arrayUns"
   ]
  },
  {
   "cell_type": "code",
   "execution_count": 76,
   "metadata": {},
   "outputs": [
    {
     "data": {
      "text/plain": [
       "array([[77, 77],\n",
       "       [77, 77],\n",
       "       [77, 77],\n",
       "       [77, 77]])"
      ]
     },
     "execution_count": 76,
     "metadata": {},
     "output_type": "execute_result"
    }
   ],
   "source": [
    "# Crie um array shape (4, 2) onde cada entrada vale 77\n",
    "# (Dica: Talvez vc tenha que usar uma multiplicação)\n",
    "array = np.full((4,2), 77)\n",
    "array"
   ]
  },
  {
   "cell_type": "code",
   "execution_count": 81,
   "metadata": {},
   "outputs": [
    {
     "data": {
      "text/plain": [
       "array([  0,  10,  20,  30,  40,  50,  60,  70,  80,  90, 100])"
      ]
     },
     "execution_count": 81,
     "metadata": {},
     "output_type": "execute_result"
    }
   ],
   "source": [
    "# Gere um array chamado my_sequence com os numeros 0, 10, 20, 30, ..., 90, 100]\n",
    "my_sequence = np.arange(0, 110, 10)\n",
    "my_sequence"
   ]
  },
  {
   "cell_type": "markdown",
   "metadata": {},
   "source": [
    "### Indexando"
   ]
  },
  {
   "cell_type": "code",
   "execution_count": 82,
   "metadata": {},
   "outputs": [
    {
     "name": "stdout",
     "output_type": "stream",
     "text": [
      "[23 15 27  4 27  0 10 16 13 32  8  2 46 34 42]\n"
     ]
    }
   ],
   "source": [
    "my_array = np.random.randint(50, size=(15,))\n",
    "print(my_array)"
   ]
  },
  {
   "cell_type": "code",
   "execution_count": 87,
   "metadata": {},
   "outputs": [
    {
     "data": {
      "text/plain": [
       "array([ 0, 10, 16, 13, 32,  8,  2])"
      ]
     },
     "execution_count": 87,
     "metadata": {},
     "output_type": "execute_result"
    }
   ],
   "source": [
    "# Selecione todos os elementos entre o quinto e o decimo primeiro (intervalo fechado)\n",
    "my_array[5:12]"
   ]
  },
  {
   "cell_type": "code",
   "execution_count": 94,
   "metadata": {},
   "outputs": [
    {
     "data": {
      "text/plain": [
       "array([23, 27, 27, 32, 46, 34, 42])"
      ]
     },
     "execution_count": 94,
     "metadata": {},
     "output_type": "execute_result"
    }
   ],
   "source": [
    "# Selecione todos os elementos maiores que 20\n",
    "my_array[my_array > 20]"
   ]
  },
  {
   "cell_type": "code",
   "execution_count": 113,
   "metadata": {},
   "outputs": [],
   "source": [
    "my_matrix = np.array([[1, 2, 3, 4],\n",
    "                      [5, 6, 7, 8],\n",
    "                      [9, 10, 11, 12],\n",
    "                      [13, 14, 15, 16]])"
   ]
  },
  {
   "cell_type": "code",
   "execution_count": 104,
   "metadata": {},
   "outputs": [
    {
     "data": {
      "text/plain": [
       "3"
      ]
     },
     "execution_count": 104,
     "metadata": {},
     "output_type": "execute_result"
    }
   ],
   "source": [
    "# Selecione o elemento na primeira linha da terceira coluna\n",
    "my_matrix[0,2]"
   ]
  },
  {
   "cell_type": "code",
   "execution_count": 107,
   "metadata": {},
   "outputs": [
    {
     "data": {
      "text/plain": [
       "4"
      ]
     },
     "execution_count": 107,
     "metadata": {},
     "output_type": "execute_result"
    }
   ],
   "source": [
    "# Selecione o elemento na primeira linha da ultima coluna\n",
    "my_matrix[0,-1]"
   ]
  },
  {
   "cell_type": "code",
   "execution_count": 143,
   "metadata": {},
   "outputs": [
    {
     "data": {
      "text/plain": [
       "array([[ 6,  7],\n",
       "       [10, 11]])"
      ]
     },
     "execution_count": 143,
     "metadata": {},
     "output_type": "execute_result"
    }
   ],
   "source": [
    "# Selecione os elementos da matriz para obter o seguinte\n",
    "# [[6, 7],\n",
    "#  [10, 11]]\n",
    "my_matrix[1:3, 1:3]\n",
    "\n",
    "# o primeiro parametro são as linhas e o segundo as colunas"
   ]
  },
  {
   "cell_type": "code",
   "execution_count": 148,
   "metadata": {},
   "outputs": [
    {
     "data": {
      "text/plain": [
       "array([[2, 3, 4],\n",
       "       [6, 7, 8]])"
      ]
     },
     "execution_count": 148,
     "metadata": {},
     "output_type": "execute_result"
    }
   ],
   "source": [
    "# Selecione os elementos da matriz para obter o seguinte\n",
    "# [[2, 3, 4],\n",
    "#  [6, 7, 8]]\n",
    "my_matrix[0:2, 1:4]"
   ]
  },
  {
   "cell_type": "code",
   "execution_count": 158,
   "metadata": {},
   "outputs": [
    {
     "data": {
      "text/plain": [
       "array([ 4,  8, 12, 16])"
      ]
     },
     "execution_count": 158,
     "metadata": {},
     "output_type": "execute_result"
    }
   ],
   "source": [
    "# Selecione os elementos da ultima coluna inteira\n",
    "my_matrix[:, 3]"
   ]
  },
  {
   "cell_type": "code",
   "execution_count": 160,
   "metadata": {},
   "outputs": [
    {
     "data": {
      "text/plain": [
       "array([5, 6, 7, 8])"
      ]
     },
     "execution_count": 160,
     "metadata": {},
     "output_type": "execute_result"
    }
   ],
   "source": [
    "# Selecione os elementos da 2a linha inteira\n",
    "my_matrix[1]"
   ]
  },
  {
   "cell_type": "markdown",
   "metadata": {},
   "source": [
    "### Operações"
   ]
  },
  {
   "cell_type": "code",
   "execution_count": 204,
   "metadata": {},
   "outputs": [
    {
     "name": "stdout",
     "output_type": "stream",
     "text": [
      "[3 5 6 8 8]\n"
     ]
    }
   ],
   "source": [
    "my_array = np.random.randint(10, size=(5,))\n",
    "print(my_array)"
   ]
  },
  {
   "cell_type": "code",
   "execution_count": 169,
   "metadata": {},
   "outputs": [
    {
     "data": {
      "text/plain": [
       "array([19, 16, 12, 13, 14])"
      ]
     },
     "execution_count": 169,
     "metadata": {},
     "output_type": "execute_result"
    }
   ],
   "source": [
    "# Some 10 a todos os elementos de my_array\n",
    "my_array + 10"
   ]
  },
  {
   "cell_type": "code",
   "execution_count": 192,
   "metadata": {},
   "outputs": [
    {
     "name": "stdout",
     "output_type": "stream",
     "text": [
      "[ 8  0 20 12  8]\n"
     ]
    }
   ],
   "source": [
    "# Multiplique todos os elementos de my_array por 4\n",
    "outro_array = my_array * 4\n",
    "print(outro_array)"
   ]
  },
  {
   "cell_type": "code",
   "execution_count": 194,
   "metadata": {},
   "outputs": [
    {
     "data": {
      "text/plain": [
       "12"
      ]
     },
     "execution_count": 194,
     "metadata": {},
     "output_type": "execute_result"
    }
   ],
   "source": [
    "# Obtenha a soma de todos os elementos de my_array\n",
    "my_array.sum()"
   ]
  },
  {
   "cell_type": "code",
   "execution_count": 195,
   "metadata": {},
   "outputs": [
    {
     "data": {
      "text/plain": [
       "2.4"
      ]
     },
     "execution_count": 195,
     "metadata": {},
     "output_type": "execute_result"
    }
   ],
   "source": [
    "# Obtenha a média de todos os elementos de my_array\n",
    "my_array.mean()"
   ]
  },
  {
   "cell_type": "code",
   "execution_count": 207,
   "metadata": {},
   "outputs": [
    {
     "data": {
      "text/plain": [
       "3"
      ]
     },
     "execution_count": 207,
     "metadata": {},
     "output_type": "execute_result"
    }
   ],
   "source": [
    "# Obtenha o indice do maior elemento de my_array\n",
    "my_array[np.argmax(my_array)] # maior valor\n",
    "my_array.argmax()\n"
   ]
  },
  {
   "cell_type": "code",
   "execution_count": 202,
   "metadata": {},
   "outputs": [
    {
     "name": "stdout",
     "output_type": "stream",
     "text": [
      "[1 1 9 0 9] \n",
      "\n",
      "[1 3 2 9 7]\n"
     ]
    }
   ],
   "source": [
    "my_array = np.random.randint(10, size=(5,))\n",
    "my_other_array = np.random.randint(10, size=(5,))\n",
    "print(my_array, '\\n')\n",
    "print(my_other_array)"
   ]
  },
  {
   "cell_type": "code",
   "execution_count": 208,
   "metadata": {},
   "outputs": [
    {
     "name": "stdout",
     "output_type": "stream",
     "text": [
      "[8 3 3 9 8] \n",
      "\n",
      "[[3 5 2 7 4]\n",
      " [1 0 4 1 7]\n",
      " [8 0 2 5 2]\n",
      " [0 4 1 0 8]\n",
      " [8 8 0 6 8]\n",
      " [6 9 3 2 8]\n",
      " [1 8 7 4 7]\n",
      " [3 0 5 3 9]\n",
      " [5 7 3 5 6]\n",
      " [5 8 5 7 8]]\n"
     ]
    }
   ],
   "source": [
    "my_array = np.random.randint(10, size=(5,))\n",
    "my_other_array = np.random.randint(10, size=(10,5))\n",
    "print(my_array, '\\n')\n",
    "print(my_other_array)"
   ]
  },
  {
   "cell_type": "code",
   "execution_count": 209,
   "metadata": {},
   "outputs": [
    {
     "data": {
      "text/plain": [
       "array([[11,  8,  5, 16, 12],\n",
       "       [ 9,  3,  7, 10, 15],\n",
       "       [16,  3,  5, 14, 10],\n",
       "       [ 8,  7,  4,  9, 16],\n",
       "       [16, 11,  3, 15, 16],\n",
       "       [14, 12,  6, 11, 16],\n",
       "       [ 9, 11, 10, 13, 15],\n",
       "       [11,  3,  8, 12, 17],\n",
       "       [13, 10,  6, 14, 14],\n",
       "       [13, 11,  8, 16, 16]])"
      ]
     },
     "execution_count": 209,
     "metadata": {},
     "output_type": "execute_result"
    }
   ],
   "source": [
    "# Some my_array elemento por elemento em cada linha de my_other_array\n",
    "np.add(my_array, my_other_array)"
   ]
  },
  {
   "cell_type": "code",
   "execution_count": 212,
   "metadata": {},
   "outputs": [
    {
     "name": "stdout",
     "output_type": "stream",
     "text": [
      "[[5 7 6 0]\n",
      " [9 6 8 0]\n",
      " [3 2 2 4]\n",
      " [0 5 8 1]\n",
      " [5 0 6 2]] \n",
      "\n",
      "[[0 1 4 2 9]\n",
      " [0 5 6 3 5]\n",
      " [2 6 2 3 5]\n",
      " [5 0 0 7 9]\n",
      " [7 2 9 1 3]\n",
      " [0 2 6 8 5]\n",
      " [7 3 2 0 0]\n",
      " [1 9 4 6 2]\n",
      " [6 7 2 1 5]\n",
      " [2 6 2 5 8]]\n"
     ]
    }
   ],
   "source": [
    "my_array = np.random.randint(10, size=(5,4))\n",
    "my_other_array = np.random.randint(10, size=(10,5))\n",
    "print(my_array, '\\n')\n",
    "print(my_other_array)"
   ]
  },
  {
   "cell_type": "code",
   "execution_count": 219,
   "metadata": {},
   "outputs": [
    {
     "data": {
      "text/plain": [
       "array([[ 66,  24,  86,  36],\n",
       "       [ 88,  57, 106,  37],\n",
       "       [ 95,  69, 118,  21],\n",
       "       [ 70,  70, 140,  25],\n",
       "       [ 95,  84, 102,  43],\n",
       "       [ 61,  64, 122,  42],\n",
       "       [ 68,  71,  70,   8],\n",
       "       [108,  99, 146,  26],\n",
       "       [124,  93, 134,  19],\n",
       "       [110,  79, 152,  29]])"
      ]
     },
     "execution_count": 219,
     "metadata": {},
     "output_type": "execute_result"
    }
   ],
   "source": [
    "# Faça a multiplicação entre my_other_array e my_array\n",
    "# refrescando a memoria: para funcionar a multiplicação, n elementos das linhas tem que ser igual a n elementos da coluna da outra\n",
    "np.dot(my_other_array, my_array)"
   ]
  },
  {
   "cell_type": "code",
   "execution_count": 220,
   "metadata": {},
   "outputs": [
    {
     "data": {
      "text/plain": [
       "array([16, 19, 18, 21, 22, 21, 12, 22, 21, 23])"
      ]
     },
     "execution_count": 220,
     "metadata": {},
     "output_type": "execute_result"
    }
   ],
   "source": [
    "# Descubra a soma dos valores de cada linha de my_other_array\n",
    "# (Dica: Pesquise sobre o atributo axis da função de soma)\n",
    "np.sum(my_other_array, axis=1)"
   ]
  },
  {
   "cell_type": "code",
   "execution_count": 221,
   "metadata": {},
   "outputs": [
    {
     "name": "stdout",
     "output_type": "stream",
     "text": [
      "[[3 1 7 7]\n",
      " [3 6 8 7]\n",
      " [0 1 6 5]\n",
      " [0 7 2 4]\n",
      " [8 0 8 0]]\n"
     ]
    }
   ],
   "source": [
    "my_array = np.random.randint(10, size=(5,4))\n",
    "print(my_array)"
   ]
  },
  {
   "cell_type": "code",
   "execution_count": 226,
   "metadata": {},
   "outputs": [
    {
     "data": {
      "text/plain": [
       "array([3, 1, 7, 7, 3, 6, 8, 7, 0, 1, 6, 5, 0, 7, 2, 4, 8, 0, 8, 0])"
      ]
     },
     "execution_count": 226,
     "metadata": {},
     "output_type": "execute_result"
    }
   ],
   "source": [
    "# Usando reshape transforme a matriz acima em um vetor (Concatendo a linha de baixo na de cima)\n",
    "my_array.reshape(20)"
   ]
  },
  {
   "cell_type": "code",
   "execution_count": 227,
   "metadata": {},
   "outputs": [
    {
     "data": {
      "text/plain": [
       "array([[ 0,  1,  2,  3,  4,  5,  6,  7],\n",
       "       [ 8,  9, 10, 11, 12, 13, 14, 15]])"
      ]
     },
     "execution_count": 227,
     "metadata": {},
     "output_type": "execute_result"
    }
   ],
   "source": [
    "np.array([[ 0,  1,  2,  3,  4,  5,  6,  7],\n",
    "          [ 8,  9, 10, 11, 12, 13, 14, 15]])"
   ]
  },
  {
   "cell_type": "code",
   "execution_count": 230,
   "metadata": {},
   "outputs": [
    {
     "data": {
      "text/plain": [
       "array([[ 0,  1,  2,  3,  4,  5,  6,  7],\n",
       "       [ 8,  9, 10, 11, 12, 13, 14, 15]])"
      ]
     },
     "execution_count": 230,
     "metadata": {},
     "output_type": "execute_result"
    }
   ],
   "source": [
    "# Gere a array anterior usando np.arange e a função reshape\n",
    "arrayBolado = np.arange(0,16,1)\n",
    "arrayBolado.reshape(2,8)"
   ]
  },
  {
   "cell_type": "code",
   "execution_count": null,
   "metadata": {},
   "outputs": [],
   "source": []
  }
 ],
 "metadata": {
  "kernelspec": {
   "display_name": "Python 3",
   "language": "python",
   "name": "python3"
  },
  "language_info": {
   "codemirror_mode": {
    "name": "ipython",
    "version": 3
   },
   "file_extension": ".py",
   "mimetype": "text/x-python",
   "name": "python",
   "nbconvert_exporter": "python",
   "pygments_lexer": "ipython3",
   "version": "3.8.8"
  }
 },
 "nbformat": 4,
 "nbformat_minor": 2
}
